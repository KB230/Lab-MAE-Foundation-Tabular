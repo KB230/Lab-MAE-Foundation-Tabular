{
 "cells": [
  {
   "cell_type": "code",
   "execution_count": 2,
   "metadata": {},
   "outputs": [],
   "source": [
    "import pandas as pd"
   ]
  },
  {
   "cell_type": "markdown",
   "metadata": {},
   "source": [
    "### Read the test set"
   ]
  },
  {
   "cell_type": "code",
   "execution_count": 2,
   "metadata": {},
   "outputs": [],
   "source": [
    "df_test = pd.read_csv('../data/X_test_original.csv')"
   ]
  },
  {
   "cell_type": "markdown",
   "metadata": {},
   "source": [
    "Since we have multiple races, to facilitate the analysis of the results, we'll group the races into 5 categories:\n",
    "* White: \n",
    "    * 'WHITE', 'WHITE - OTHER EUROPEAN', 'WHITE - RUSSIAN', 'WHITE - EASTERN EUROPEAN', 'WHITE - BRAZILIAN'\n",
    "* Black: \n",
    "    * 'BLACK/AFRICAN AMERICAN', 'BLACK/CAPE VERDEAN', 'BLACK/AFRICAN', 'BLACK/CARIBBEAN ISLAND'\n",
    "* Hispanic: \n",
    "    *  'HISPANIC OR LATINO', 'HISPANIC/LATINO - PUERTO RICAN', 'HISPANIC/LATINO - DOMINICAN', 'HISPANIC/LATINO - GUATEMALAN', 'HISPANIC/LATINO - SALVADORAN', 'HISPANIC/LATINO - MEXICAN', 'HISPANIC/LATINO - COLUMBIAN', 'HISPANIC/LATINO - CENTRAL AMERICAN', 'HISPANIC/LATINO - CUBAN', 'HISPANIC/LATINO - HONDURAN', 'SOUTH AMERICAN'\n",
    "* Asian: \n",
    "    * 'ASIAN', 'ASIAN - CHINESE', 'ASIAN - ASIAN INDIAN', 'ASIAN - SOUTH EAST ASIAN', 'ASIAN - KOREAN'\n",
    "* Others: \n",
    "    *  'AMERICAN INDIAN/ALASKA NATIVE', 'NATIVE HAWAIIAN OR OTHER PACIFIC ISLANDER', 'OTHER', 'UNKNOWN', 'PATIENT DECLINED TO ANSWER', 'UNABLE TO OBTAIN', 'MULTIPLE', 'PORTUGUESE'"
   ]
  },
  {
   "cell_type": "code",
   "execution_count": 4,
   "metadata": {},
   "outputs": [
    {
     "data": {
      "text/plain": [
       "WHITE                                        202929\n",
       "BLACK/AFRICAN AMERICAN                        45255\n",
       "OTHER                                         16230\n",
       "UNKNOWN                                       10928\n",
       "HISPANIC OR LATINO                             8706\n",
       "BLACK/CAPE VERDEAN                             4295\n",
       "ASIAN                                          4183\n",
       "ASIAN - CHINESE                                3899\n",
       "WHITE - OTHER EUROPEAN                         3881\n",
       "HISPANIC/LATINO - PUERTO RICAN                 3323\n",
       "HISPANIC/LATINO - DOMINICAN                    2800\n",
       "WHITE - RUSSIAN                                2657\n",
       "BLACK/AFRICAN                                  2515\n",
       "BLACK/CARIBBEAN ISLAND                         2231\n",
       "PATIENT DECLINED TO ANSWER                     1973\n",
       "UNABLE TO OBTAIN                               1838\n",
       "PORTUGUESE                                     1235\n",
       "WHITE - EASTERN EUROPEAN                        984\n",
       "ASIAN - ASIAN INDIAN                            977\n",
       "HISPANIC/LATINO - GUATEMALAN                    928\n",
       "ASIAN - SOUTH EAST ASIAN                        783\n",
       "AMERICAN INDIAN/ALASKA NATIVE                   667\n",
       "HISPANIC/LATINO - SALVADORAN                    471\n",
       "WHITE - BRAZILIAN                               453\n",
       "NATIVE HAWAIIAN OR OTHER PACIFIC ISLANDER       379\n",
       "SOUTH AMERICAN                                  258\n",
       "HISPANIC/LATINO - MEXICAN                       232\n",
       "HISPANIC/LATINO - COLUMBIAN                     224\n",
       "HISPANIC/LATINO - CENTRAL AMERICAN              191\n",
       "HISPANIC/LATINO - CUBAN                         182\n",
       "MULTIPLE RACE/ETHNICITY                         176\n",
       "HISPANIC/LATINO - HONDURAN                      153\n",
       "ASIAN - KOREAN                                   89\n",
       "Name: first_race, dtype: int64"
      ]
     },
     "execution_count": 4,
     "metadata": {},
     "output_type": "execute_result"
    }
   ],
   "source": [
    "# Plot the distribution of the races in the test set\n",
    "df_test['first_race'].value_counts()"
   ]
  },
  {
   "cell_type": "code",
   "execution_count": 5,
   "metadata": {},
   "outputs": [],
   "source": [
    "# Define a mapping for races\n",
    "race_mapping = {\n",
    "    'WHITE': 'White',\n",
    "    'WHITE - OTHER EUROPEAN': 'White',\n",
    "    'WHITE - RUSSIAN': 'White',\n",
    "    'WHITE - EASTERN EUROPEAN': 'White',\n",
    "    'WHITE - BRAZILIAN': 'White',\n",
    "    'BLACK/AFRICAN AMERICAN': 'Black',\n",
    "    'BLACK/CAPE VERDEAN': 'Black',\n",
    "    'BLACK/AFRICAN': 'Black',\n",
    "    'BLACK/CARIBBEAN ISLAND': 'Black',\n",
    "    'HISPANIC OR LATINO': 'Hispanic',\n",
    "    'HISPANIC/LATINO - PUERTO RICAN': 'Hispanic',\n",
    "    'HISPANIC/LATINO - DOMINICAN': 'Hispanic',\n",
    "    'HISPANIC/LATINO - GUATEMALAN': 'Hispanic',\n",
    "    'HISPANIC/LATINO - SALVADORAN': 'Hispanic',\n",
    "    'HISPANIC/LATINO - MEXICAN': 'Hispanic',\n",
    "    'HISPANIC/LATINO - COLUMBIAN': 'Hispanic',\n",
    "    'HISPANIC/LATINO - CENTRAL AMERICAN': 'Hispanic',\n",
    "    'HISPANIC/LATINO - CUBAN': 'Hispanic',\n",
    "    'HISPANIC/LATINO - HONDURAN': 'Hispanic',\n",
    "    'ASIAN': 'Asian',\n",
    "    'ASIAN - CHINESE': 'Asian',\n",
    "    'ASIAN - ASIAN INDIAN': 'Asian',\n",
    "    'ASIAN - SOUTH EAST ASIAN': 'Asian',\n",
    "    'ASIAN - KOREAN': 'Asian',\n",
    "    'AMERICAN INDIAN/ALASKA NATIVE': 'Others',\n",
    "    'NATIVE HAWAIIAN OR OTHER PACIFIC ISLANDER': 'Others',\n",
    "    'SOUTH AMERICAN': 'Hispanic',\n",
    "    'OTHER': 'Others',\n",
    "    'UNKNOWN': 'Others',\n",
    "    'PATIENT DECLINED TO ANSWER': 'Others',\n",
    "    'UNABLE TO OBTAIN': 'Others',\n",
    "    'MULTIPLE RACE/ETHNICITY': 'Others',\n",
    "    'PORTUGUESE': 'Others'\n",
    "}\n",
    "\n",
    "# Apply the mapping to the 'first_race' column\n",
    "df_test['first_race'] = df_test['first_race'].map(race_mapping)"
   ]
  },
  {
   "cell_type": "code",
   "execution_count": 6,
   "metadata": {},
   "outputs": [
    {
     "data": {
      "text/plain": [
       "White       210904\n",
       "Black        54296\n",
       "Others       33426\n",
       "Hispanic     17468\n",
       "Asian         9931\n",
       "Name: first_race, dtype: int64"
      ]
     },
     "execution_count": 6,
     "metadata": {},
     "output_type": "execute_result"
    }
   ],
   "source": [
    "# Check the new value counts for the grouped race categories\n",
    "df_test['first_race'].value_counts()"
   ]
  },
  {
   "cell_type": "code",
   "execution_count": 9,
   "metadata": {},
   "outputs": [],
   "source": [
    "# Save the cleaned test set\n",
    "df_test.to_csv('../data/X_test.csv', index=False)"
   ]
  },
  {
   "cell_type": "code",
   "execution_count": null,
   "metadata": {},
   "outputs": [],
   "source": []
  }
 ],
 "metadata": {
  "kernelspec": {
   "display_name": "transformers",
   "language": "python",
   "name": "python3"
  },
  "language_info": {
   "codemirror_mode": {
    "name": "ipython",
    "version": 3
   },
   "file_extension": ".py",
   "mimetype": "text/x-python",
   "name": "python",
   "nbconvert_exporter": "python",
   "pygments_lexer": "ipython3",
   "version": "3.9.13"
  }
 },
 "nbformat": 4,
 "nbformat_minor": 2
}
